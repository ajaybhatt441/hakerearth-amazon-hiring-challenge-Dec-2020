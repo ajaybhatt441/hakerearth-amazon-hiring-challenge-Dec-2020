{
 "cells": [
  {
   "cell_type": "markdown",
   "metadata": {},
   "source": [
    "# importing necessary library"
   ]
  },
  {
   "cell_type": "code",
   "execution_count": 3,
   "metadata": {},
   "outputs": [],
   "source": [
    "import pandas as pd \n",
    "import numpy as np\n",
    "import matplotlib.pyplot as plt\n",
    "import seaborn as sns\n"
   ]
  },
  {
   "cell_type": "code",
   "execution_count": 4,
   "metadata": {},
   "outputs": [],
   "source": [
    "loca='haker earth amazone hiring'"
   ]
  },
  {
   "cell_type": "code",
   "execution_count": 5,
   "metadata": {},
   "outputs": [],
   "source": [
    "train=pd.read_csv(loca+'/train.csv')\n",
    "test=pd.read_csv(loca+'/test.csv')"
   ]
  },
  {
   "cell_type": "code",
   "execution_count": 6,
   "metadata": {},
   "outputs": [
    {
     "data": {
      "text/html": [
       "<div>\n",
       "<style scoped>\n",
       "    .dataframe tbody tr th:only-of-type {\n",
       "        vertical-align: middle;\n",
       "    }\n",
       "\n",
       "    .dataframe tbody tr th {\n",
       "        vertical-align: top;\n",
       "    }\n",
       "\n",
       "    .dataframe thead th {\n",
       "        text-align: right;\n",
       "    }\n",
       "</style>\n",
       "<table border=\"1\" class=\"dataframe\">\n",
       "  <thead>\n",
       "    <tr style=\"text-align: right;\">\n",
       "      <th></th>\n",
       "      <th>customer_id</th>\n",
       "      <th>customer_visit_score</th>\n",
       "      <th>customer_product_search_score</th>\n",
       "      <th>customer_ctr_score</th>\n",
       "      <th>customer_stay_score</th>\n",
       "      <th>customer_frequency_score</th>\n",
       "      <th>customer_product_variation_score</th>\n",
       "      <th>customer_order_score</th>\n",
       "      <th>customer_affinity_score</th>\n",
       "      <th>customer_active_segment</th>\n",
       "      <th>X1</th>\n",
       "      <th>customer_category</th>\n",
       "    </tr>\n",
       "  </thead>\n",
       "  <tbody>\n",
       "    <tr>\n",
       "      <th>0</th>\n",
       "      <td>csid_1</td>\n",
       "      <td>13.168425</td>\n",
       "      <td>9.447662</td>\n",
       "      <td>-0.070203</td>\n",
       "      <td>-0.139541</td>\n",
       "      <td>0.436956</td>\n",
       "      <td>4.705761</td>\n",
       "      <td>2.537985</td>\n",
       "      <td>7.959503</td>\n",
       "      <td>C</td>\n",
       "      <td>F</td>\n",
       "      <td>0</td>\n",
       "    </tr>\n",
       "    <tr>\n",
       "      <th>1</th>\n",
       "      <td>csid_2</td>\n",
       "      <td>17.092979</td>\n",
       "      <td>7.329056</td>\n",
       "      <td>0.153298</td>\n",
       "      <td>-0.102726</td>\n",
       "      <td>0.380340</td>\n",
       "      <td>4.205138</td>\n",
       "      <td>4.193444</td>\n",
       "      <td>17.517381</td>\n",
       "      <td>C</td>\n",
       "      <td>A</td>\n",
       "      <td>0</td>\n",
       "    </tr>\n",
       "    <tr>\n",
       "      <th>2</th>\n",
       "      <td>csid_3</td>\n",
       "      <td>17.505334</td>\n",
       "      <td>5.143676</td>\n",
       "      <td>0.106709</td>\n",
       "      <td>0.262834</td>\n",
       "      <td>0.417648</td>\n",
       "      <td>4.479070</td>\n",
       "      <td>3.878971</td>\n",
       "      <td>12.595155</td>\n",
       "      <td>C</td>\n",
       "      <td>BA</td>\n",
       "      <td>0</td>\n",
       "    </tr>\n",
       "    <tr>\n",
       "      <th>3</th>\n",
       "      <td>csid_4</td>\n",
       "      <td>31.423381</td>\n",
       "      <td>4.917740</td>\n",
       "      <td>-0.020226</td>\n",
       "      <td>-0.100526</td>\n",
       "      <td>0.778130</td>\n",
       "      <td>5.055535</td>\n",
       "      <td>2.708940</td>\n",
       "      <td>4.795073</td>\n",
       "      <td>AA</td>\n",
       "      <td>F</td>\n",
       "      <td>0</td>\n",
       "    </tr>\n",
       "    <tr>\n",
       "      <th>4</th>\n",
       "      <td>csid_5</td>\n",
       "      <td>11.909502</td>\n",
       "      <td>4.237073</td>\n",
       "      <td>0.187178</td>\n",
       "      <td>0.172891</td>\n",
       "      <td>0.162067</td>\n",
       "      <td>3.445247</td>\n",
       "      <td>3.677360</td>\n",
       "      <td>56.636326</td>\n",
       "      <td>C</td>\n",
       "      <td>AA</td>\n",
       "      <td>0</td>\n",
       "    </tr>\n",
       "  </tbody>\n",
       "</table>\n",
       "</div>"
      ],
      "text/plain": [
       "  customer_id  customer_visit_score  customer_product_search_score  \\\n",
       "0      csid_1             13.168425                       9.447662   \n",
       "1      csid_2             17.092979                       7.329056   \n",
       "2      csid_3             17.505334                       5.143676   \n",
       "3      csid_4             31.423381                       4.917740   \n",
       "4      csid_5             11.909502                       4.237073   \n",
       "\n",
       "   customer_ctr_score  customer_stay_score  customer_frequency_score  \\\n",
       "0           -0.070203            -0.139541                  0.436956   \n",
       "1            0.153298            -0.102726                  0.380340   \n",
       "2            0.106709             0.262834                  0.417648   \n",
       "3           -0.020226            -0.100526                  0.778130   \n",
       "4            0.187178             0.172891                  0.162067   \n",
       "\n",
       "   customer_product_variation_score  customer_order_score  \\\n",
       "0                          4.705761              2.537985   \n",
       "1                          4.205138              4.193444   \n",
       "2                          4.479070              3.878971   \n",
       "3                          5.055535              2.708940   \n",
       "4                          3.445247              3.677360   \n",
       "\n",
       "   customer_affinity_score customer_active_segment  X1  customer_category  \n",
       "0                 7.959503                       C   F                  0  \n",
       "1                17.517381                       C   A                  0  \n",
       "2                12.595155                       C  BA                  0  \n",
       "3                 4.795073                      AA   F                  0  \n",
       "4                56.636326                       C  AA                  0  "
      ]
     },
     "execution_count": 6,
     "metadata": {},
     "output_type": "execute_result"
    }
   ],
   "source": [
    "train.head()"
   ]
  },
  {
   "cell_type": "code",
   "execution_count": 8,
   "metadata": {},
   "outputs": [
    {
     "data": {
      "text/plain": [
       "<matplotlib.axes._subplots.AxesSubplot at 0x1f6b31ef320>"
      ]
     },
     "execution_count": 8,
     "metadata": {},
     "output_type": "execute_result"
    },
    {
     "data": {
      "image/png": "[encoded data removed]",
      "text/plain": [
       "<Figure size 432x288 with 1 Axes>"
      ]
     },
     "metadata": {
      "needs_background": "light"
     },
     "output_type": "display_data"
    }
   ],
   "source": [
    "sns.countplot(train['customer_category'])"
   ]
  },
  {
   "cell_type": "code",
   "execution_count": 9,
   "metadata": {},
   "outputs": [
    {
     "data": {
      "text/plain": [
       "<matplotlib.axes._subplots.AxesSubplot at 0x1f6b323dba8>"
      ]
     },
     "execution_count": 9,
     "metadata": {},
     "output_type": "execute_result"
    },
    {
     "data": {
      "image/png": "[encoded data removed]",
      "text/plain": [
       "<Figure size 432x288 with 1 Axes>"
      ]
     },
     "metadata": {
      "needs_background": "light"
     },
     "output_type": "display_data"
    }
   ],
   "source": [
    "sns.countplot(train['customer_active_segment'])"
   ]
  },
  {
   "cell_type": "code",
   "execution_count": 10,
   "metadata": {},
   "outputs": [
    {
     "data": {
      "text/plain": [
       "<matplotlib.axes._subplots.AxesSubplot at 0x1f6b327e4a8>"
      ]
     },
     "execution_count": 10,
     "metadata": {},
     "output_type": "execute_result"
    },
    {
     "data": {
      "image/png": "[encoded data removed]",
      "text/plain": [
       "<Figure size 432x288 with 1 Axes>"
      ]
     },
     "metadata": {
      "needs_background": "light"
     },
     "output_type": "display_data"
    }
   ],
   "source": [
    "sns.countplot(train['X1'])"
   ]
  },
  {
   "cell_type": "markdown",
   "metadata": {},
   "source": [
    "# preprocessing of data"
   ]
  },
  {
   "cell_type": "code",
   "execution_count": 11,
   "metadata": {},
   "outputs": [
    {
     "data": {
      "text/plain": [
       "customer_id                         False\n",
       "customer_visit_score                False\n",
       "customer_product_search_score        True\n",
       "customer_ctr_score                  False\n",
       "customer_stay_score                  True\n",
       "customer_frequency_score            False\n",
       "customer_product_variation_score     True\n",
       "customer_order_score                 True\n",
       "customer_affinity_score             False\n",
       "customer_active_segment              True\n",
       "X1                                   True\n",
       "customer_category                   False\n",
       "dtype: bool"
      ]
     },
     "execution_count": 11,
     "metadata": {},
     "output_type": "execute_result"
    }
   ],
   "source": [
    "train.isnull().any()"
   ]
  },
  {
   "cell_type": "code",
   "execution_count": 12,
   "metadata": {},
   "outputs": [],
   "source": [
    "from sklearn.impute import SimpleImputer"
   ]
  },
  {
   "cell_type": "code",
   "execution_count": 13,
   "metadata": {},
   "outputs": [
    {
     "data": {
      "text/plain": [
       "customer_id                          object\n",
       "customer_visit_score                float64\n",
       "customer_product_search_score       float64\n",
       "customer_ctr_score                  float64\n",
       "customer_stay_score                 float64\n",
       "customer_frequency_score            float64\n",
       "customer_product_variation_score    float64\n",
       "customer_order_score                float64\n",
       "customer_affinity_score             float64\n",
       "customer_active_segment              object\n",
       "X1                                   object\n",
       "customer_category                     int64\n",
       "dtype: object"
      ]
     },
     "execution_count": 13,
     "metadata": {},
     "output_type": "execute_result"
    }
   ],
   "source": [
    "train.dtypes"
   ]
  },
  {
   "cell_type": "code",
   "execution_count": 14,
   "metadata": {},
   "outputs": [],
   "source": [
    "imp_con=SimpleImputer(strategy='mean')\n",
    "imp_obj=SimpleImputer(strategy='most_frequent')"
   ]
  },
  {
   "cell_type": "code",
   "execution_count": 15,
   "metadata": {},
   "outputs": [],
   "source": [
    "train1=train.copy()"
   ]
  },
  {
   "cell_type": "code",
   "execution_count": 16,
   "metadata": {},
   "outputs": [
    {
     "data": {
      "text/plain": [
       "(10738, 12)"
      ]
     },
     "execution_count": 16,
     "metadata": {},
     "output_type": "execute_result"
    }
   ],
   "source": [
    "train1.shape"
   ]
  },
  {
   "cell_type": "code",
   "execution_count": 17,
   "metadata": {},
   "outputs": [],
   "source": [
    "train1.drop(['customer_id','customer_category'],axis=1,inplace=True)"
   ]
  },
  {
   "cell_type": "code",
   "execution_count": 18,
   "metadata": {},
   "outputs": [
    {
     "data": {
      "text/plain": [
       "(10738, 10)"
      ]
     },
     "execution_count": 18,
     "metadata": {},
     "output_type": "execute_result"
    }
   ],
   "source": [
    "train1.shape"
   ]
  },
  {
   "cell_type": "markdown",
   "metadata": {},
   "source": [
    "# DEALING WITH NULL VALUES"
   ]
  },
  {
   "cell_type": "code",
   "execution_count": 19,
   "metadata": {},
   "outputs": [
    {
     "data": {
      "text/plain": [
       "['customer_product_search_score',\n",
       " 'customer_stay_score',\n",
       " 'customer_product_variation_score',\n",
       " 'customer_order_score',\n",
       " 'customer_active_segment',\n",
       " 'X1']"
      ]
     },
     "execution_count": 19,
     "metadata": {},
     "output_type": "execute_result"
    }
   ],
   "source": [
    "features_with_na=[feature for feature in train1.columns if train1[feature].isnull().sum()>0]\n",
    "features_with_na"
   ]
  },
  {
   "cell_type": "code",
   "execution_count": 20,
   "metadata": {},
   "outputs": [],
   "source": [
    "obj=[]\n",
    "for i in features_with_na:\n",
    "    if train1[i].dtype=='O':\n",
    "        obj.append(i)\n",
    "con=[]\n",
    "for i in features_with_na:\n",
    "    if train1[i].dtype=='float64':\n",
    "        con.append(i)"
   ]
  },
  {
   "cell_type": "code",
   "execution_count": 21,
   "metadata": {},
   "outputs": [
    {
     "data": {
      "text/plain": [
       "['customer_product_search_score',\n",
       " 'customer_stay_score',\n",
       " 'customer_product_variation_score',\n",
       " 'customer_order_score']"
      ]
     },
     "execution_count": 21,
     "metadata": {},
     "output_type": "execute_result"
    }
   ],
   "source": [
    "con"
   ]
  },
  {
   "cell_type": "code",
   "execution_count": 22,
   "metadata": {},
   "outputs": [],
   "source": [
    "train1[obj]=imp_obj.fit_transform(train[obj])\n",
    "train1[con]=imp_con.fit_transform(train[con])"
   ]
  },
  {
   "cell_type": "code",
   "execution_count": 23,
   "metadata": {},
   "outputs": [
    {
     "data": {
      "text/plain": [
       "(10738, 10)"
      ]
     },
     "execution_count": 23,
     "metadata": {},
     "output_type": "execute_result"
    }
   ],
   "source": [
    "train1.shape"
   ]
  },
  {
   "cell_type": "code",
   "execution_count": 24,
   "metadata": {},
   "outputs": [
    {
     "data": {
      "text/plain": [
       "customer_visit_score                False\n",
       "customer_product_search_score       False\n",
       "customer_ctr_score                  False\n",
       "customer_stay_score                 False\n",
       "customer_frequency_score            False\n",
       "customer_product_variation_score    False\n",
       "customer_order_score                False\n",
       "customer_affinity_score             False\n",
       "customer_active_segment             False\n",
       "X1                                  False\n",
       "dtype: bool"
      ]
     },
     "execution_count": 24,
     "metadata": {},
     "output_type": "execute_result"
    }
   ],
   "source": [
    "train1.isnull().any()"
   ]
  },
  {
   "cell_type": "code",
   "execution_count": 25,
   "metadata": {},
   "outputs": [],
   "source": [
    "X=pd.get_dummies(train1)\n",
    "y=train['customer_category']"
   ]
  },
  {
   "cell_type": "code",
   "execution_count": 26,
   "metadata": {},
   "outputs": [],
   "source": [
    "from sklearn.preprocessing import MinMaxScaler"
   ]
  },
  {
   "cell_type": "code",
   "execution_count": 39,
   "metadata": {},
   "outputs": [
    {
     "name": "stderr",
     "output_type": "stream",
     "text": [
      "C:\\Users\\ajay\\Anaconda3\\lib\\site-packages\\sklearn\\preprocessing\\data.py:323: DataConversionWarning: Data with input dtype uint8, float64 were all converted to float64 by MinMaxScaler.\n",
      "  return self.partial_fit(X, y)\n"
     ]
    }
   ],
   "source": [
    "scaler=MinMaxScaler().fit(X)"
   ]
  },
  {
   "cell_type": "code",
   "execution_count": 76,
   "metadata": {},
   "outputs": [],
   "source": [
    "X=scaler.transform(X)"
   ]
  },
  {
   "cell_type": "markdown",
   "metadata": {},
   "source": [
    "# importing sklearn libraries for model training "
   ]
  },
  {
   "cell_type": "code",
   "execution_count": 27,
   "metadata": {},
   "outputs": [],
   "source": [
    "from sklearn.model_selection import train_test_split\n",
    "from sklearn.model_selection import GridSearchCV\n",
    "from sklearn.ensemble import RandomForestClassifier"
   ]
  },
  {
   "cell_type": "code",
   "execution_count": 28,
   "metadata": {},
   "outputs": [],
   "source": [
    "X_train,X_test,y_train,y_test=train_test_split(X,y,random_state=0)"
   ]
  },
  {
   "cell_type": "code",
   "execution_count": 29,
   "metadata": {},
   "outputs": [],
   "source": [
    "gd=GridSearchCV(RandomForestClassifier(),{'n_estimators':[50,100,150],'max_depth':[12,15,20,22]},cv=5).fit(X,y)"
   ]
  },
  {
   "cell_type": "code",
   "execution_count": 31,
   "metadata": {},
   "outputs": [
    {
     "data": {
      "text/plain": [
       "{'max_depth': 20, 'n_estimators': 50}"
      ]
     },
     "execution_count": 31,
     "metadata": {},
     "output_type": "execute_result"
    }
   ],
   "source": [
    "gd.best_params_"
   ]
  },
  {
   "cell_type": "code",
   "execution_count": 32,
   "metadata": {},
   "outputs": [
    {
     "data": {
      "text/plain": [
       "0.9755075433041535"
      ]
     },
     "execution_count": 32,
     "metadata": {},
     "output_type": "execute_result"
    }
   ],
   "source": [
    "gd.best_score_"
   ]
  },
  {
   "cell_type": "code",
   "execution_count": 33,
   "metadata": {},
   "outputs": [],
   "source": [
    "from sklearn.metrics import precision_score"
   ]
  },
  {
   "cell_type": "code",
   "execution_count": 34,
   "metadata": {},
   "outputs": [],
   "source": [
    "score=precision_score(train['customer_category'],gd.best_estimator_.predict(X),average='macro')"
   ]
  },
  {
   "cell_type": "code",
   "execution_count": 35,
   "metadata": {},
   "outputs": [
    {
     "data": {
      "text/plain": [
       "0.9996825060853001"
      ]
     },
     "execution_count": 35,
     "metadata": {},
     "output_type": "execute_result"
    }
   ],
   "source": [
    "score"
   ]
  },
  {
   "cell_type": "code",
   "execution_count": 36,
   "metadata": {},
   "outputs": [],
   "source": [
    "test1=test.copy()"
   ]
  },
  {
   "cell_type": "code",
   "execution_count": 37,
   "metadata": {},
   "outputs": [
    {
     "data": {
      "text/html": [
       "<div>\n",
       "<style scoped>\n",
       "    .dataframe tbody tr th:only-of-type {\n",
       "        vertical-align: middle;\n",
       "    }\n",
       "\n",
       "    .dataframe tbody tr th {\n",
       "        vertical-align: top;\n",
       "    }\n",
       "\n",
       "    .dataframe thead th {\n",
       "        text-align: right;\n",
       "    }\n",
       "</style>\n",
       "<table border=\"1\" class=\"dataframe\">\n",
       "  <thead>\n",
       "    <tr style=\"text-align: right;\">\n",
       "      <th></th>\n",
       "      <th>customer_id</th>\n",
       "      <th>customer_visit_score</th>\n",
       "      <th>customer_product_search_score</th>\n",
       "      <th>customer_ctr_score</th>\n",
       "      <th>customer_stay_score</th>\n",
       "      <th>customer_frequency_score</th>\n",
       "      <th>customer_product_variation_score</th>\n",
       "      <th>customer_order_score</th>\n",
       "      <th>customer_affinity_score</th>\n",
       "      <th>customer_active_segment</th>\n",
       "      <th>X1</th>\n",
       "    </tr>\n",
       "  </thead>\n",
       "  <tbody>\n",
       "    <tr>\n",
       "      <th>0</th>\n",
       "      <td>csid_10739</td>\n",
       "      <td>22.500174</td>\n",
       "      <td>3.702145</td>\n",
       "      <td>0.118811</td>\n",
       "      <td>0.093253</td>\n",
       "      <td>0.689237</td>\n",
       "      <td>5.786842</td>\n",
       "      <td>3.748009</td>\n",
       "      <td>7.661716</td>\n",
       "      <td>B</td>\n",
       "      <td>BA</td>\n",
       "    </tr>\n",
       "    <tr>\n",
       "      <th>1</th>\n",
       "      <td>csid_10740</td>\n",
       "      <td>13.225950</td>\n",
       "      <td>3.600102</td>\n",
       "      <td>0.130985</td>\n",
       "      <td>0.053575</td>\n",
       "      <td>0.142756</td>\n",
       "      <td>3.940359</td>\n",
       "      <td>3.469659</td>\n",
       "      <td>33.999679</td>\n",
       "      <td>B</td>\n",
       "      <td>AA</td>\n",
       "    </tr>\n",
       "    <tr>\n",
       "      <th>2</th>\n",
       "      <td>csid_10741</td>\n",
       "      <td>14.603376</td>\n",
       "      <td>5.084047</td>\n",
       "      <td>-0.004651</td>\n",
       "      <td>-0.036299</td>\n",
       "      <td>0.333709</td>\n",
       "      <td>4.254662</td>\n",
       "      <td>3.855939</td>\n",
       "      <td>33.485630</td>\n",
       "      <td>B</td>\n",
       "      <td>AA</td>\n",
       "    </tr>\n",
       "    <tr>\n",
       "      <th>3</th>\n",
       "      <td>csid_10742</td>\n",
       "      <td>26.149905</td>\n",
       "      <td>3.025501</td>\n",
       "      <td>0.229740</td>\n",
       "      <td>0.204591</td>\n",
       "      <td>3.768405</td>\n",
       "      <td>6.942625</td>\n",
       "      <td>2.362421</td>\n",
       "      <td>0.795372</td>\n",
       "      <td>B</td>\n",
       "      <td>BA</td>\n",
       "    </tr>\n",
       "    <tr>\n",
       "      <th>4</th>\n",
       "      <td>csid_10743</td>\n",
       "      <td>19.810630</td>\n",
       "      <td>5.020400</td>\n",
       "      <td>-0.011347</td>\n",
       "      <td>-0.028780</td>\n",
       "      <td>0.286841</td>\n",
       "      <td>4.585513</td>\n",
       "      <td>3.278624</td>\n",
       "      <td>15.052058</td>\n",
       "      <td>C</td>\n",
       "      <td>BA</td>\n",
       "    </tr>\n",
       "  </tbody>\n",
       "</table>\n",
       "</div>"
      ],
      "text/plain": [
       "  customer_id  customer_visit_score  customer_product_search_score  \\\n",
       "0  csid_10739             22.500174                       3.702145   \n",
       "1  csid_10740             13.225950                       3.600102   \n",
       "2  csid_10741             14.603376                       5.084047   \n",
       "3  csid_10742             26.149905                       3.025501   \n",
       "4  csid_10743             19.810630                       5.020400   \n",
       "\n",
       "   customer_ctr_score  customer_stay_score  customer_frequency_score  \\\n",
       "0            0.118811             0.093253                  0.689237   \n",
       "1            0.130985             0.053575                  0.142756   \n",
       "2           -0.004651            -0.036299                  0.333709   \n",
       "3            0.229740             0.204591                  3.768405   \n",
       "4           -0.011347            -0.028780                  0.286841   \n",
       "\n",
       "   customer_product_variation_score  customer_order_score  \\\n",
       "0                          5.786842              3.748009   \n",
       "1                          3.940359              3.469659   \n",
       "2                          4.254662              3.855939   \n",
       "3                          6.942625              2.362421   \n",
       "4                          4.585513              3.278624   \n",
       "\n",
       "   customer_affinity_score customer_active_segment  X1  \n",
       "0                 7.661716                       B  BA  \n",
       "1                33.999679                       B  AA  \n",
       "2                33.485630                       B  AA  \n",
       "3                 0.795372                       B  BA  \n",
       "4                15.052058                       C  BA  "
      ]
     },
     "execution_count": 37,
     "metadata": {},
     "output_type": "execute_result"
    }
   ],
   "source": [
    "test1.head()"
   ]
  },
  {
   "cell_type": "code",
   "execution_count": 38,
   "metadata": {},
   "outputs": [],
   "source": [
    "test1.drop(['customer_id'],axis=1,inplace=True)"
   ]
  },
  {
   "cell_type": "code",
   "execution_count": 39,
   "metadata": {},
   "outputs": [
    {
     "data": {
      "text/plain": [
       "customer_visit_score                False\n",
       "customer_product_search_score        True\n",
       "customer_ctr_score                  False\n",
       "customer_stay_score                  True\n",
       "customer_frequency_score            False\n",
       "customer_product_variation_score     True\n",
       "customer_order_score                 True\n",
       "customer_affinity_score             False\n",
       "customer_active_segment              True\n",
       "X1                                   True\n",
       "dtype: bool"
      ]
     },
     "execution_count": 39,
     "metadata": {},
     "output_type": "execute_result"
    }
   ],
   "source": [
    "test1.isnull().any()"
   ]
  },
  {
   "cell_type": "code",
   "execution_count": 40,
   "metadata": {},
   "outputs": [
    {
     "data": {
      "text/plain": [
       "['customer_product_search_score',\n",
       " 'customer_stay_score',\n",
       " 'customer_product_variation_score',\n",
       " 'customer_order_score',\n",
       " 'customer_active_segment',\n",
       " 'X1']"
      ]
     },
     "execution_count": 40,
     "metadata": {},
     "output_type": "execute_result"
    }
   ],
   "source": [
    "features_with_na_test=[feature for feature in test1.columns if test1[feature].isnull().sum()>0]\n",
    "features_with_na_test"
   ]
  },
  {
   "cell_type": "code",
   "execution_count": 41,
   "metadata": {},
   "outputs": [],
   "source": [
    "obj=[]\n",
    "for i in features_with_na_test:\n",
    "    if test1[i].dtype=='O':\n",
    "        obj.append(i)\n",
    "con=[]\n",
    "for i in features_with_na_test:\n",
    "    if test1[i].dtype=='float64':\n",
    "        con.append(i)"
   ]
  },
  {
   "cell_type": "code",
   "execution_count": 42,
   "metadata": {},
   "outputs": [],
   "source": [
    "test1[obj]=imp_obj.transform(test[obj])\n",
    "test1[con]=imp_con.transform(test[con])"
   ]
  },
  {
   "cell_type": "code",
   "execution_count": 43,
   "metadata": {},
   "outputs": [],
   "source": [
    "Xt=pd.get_dummies(test1)\n"
   ]
  },
  {
   "cell_type": "code",
   "execution_count": 68,
   "metadata": {},
   "outputs": [],
   "source": [
    "Xt=scaler.transform(Xt)"
   ]
  },
  {
   "cell_type": "code",
   "execution_count": 44,
   "metadata": {},
   "outputs": [],
   "source": [
    "submission=pd.DataFrame([])"
   ]
  },
  {
   "cell_type": "code",
   "execution_count": 45,
   "metadata": {},
   "outputs": [],
   "source": [
    "submission['customer_id']=test['customer_id']\n",
    "submission['customer_category']=gd.best_estimator_.predict(Xt)"
   ]
  },
  {
   "cell_type": "code",
   "execution_count": 46,
   "metadata": {},
   "outputs": [
    {
     "data": {
      "text/plain": [
       "<matplotlib.axes._subplots.AxesSubplot at 0x1f6b3c9bb00>"
      ]
     },
     "execution_count": 46,
     "metadata": {},
     "output_type": "execute_result"
    },
    {
     "data": {
      "image/png": "[encoded data removed]",
      "text/plain": [
       "<Figure size 432x288 with 1 Axes>"
      ]
     },
     "metadata": {
      "needs_background": "light"
     },
     "output_type": "display_data"
    }
   ],
   "source": [
    "sns.countplot(submission['customer_category'])"
   ]
  },
  {
   "cell_type": "code",
   "execution_count": 47,
   "metadata": {},
   "outputs": [],
   "source": [
    "submission.to_csv('amazone_hir1.csv',index=None)"
   ]
  },
  {
   "cell_type": "code",
   "execution_count": 48,
   "metadata": {},
   "outputs": [
    {
     "data": {
      "text/html": [
       "<div>\n",
       "<style scoped>\n",
       "    .dataframe tbody tr th:only-of-type {\n",
       "        vertical-align: middle;\n",
       "    }\n",
       "\n",
       "    .dataframe tbody tr th {\n",
       "        vertical-align: top;\n",
       "    }\n",
       "\n",
       "    .dataframe thead th {\n",
       "        text-align: right;\n",
       "    }\n",
       "</style>\n",
       "<table border=\"1\" class=\"dataframe\">\n",
       "  <thead>\n",
       "    <tr style=\"text-align: right;\">\n",
       "      <th></th>\n",
       "      <th>customer_id</th>\n",
       "      <th>customer_category</th>\n",
       "    </tr>\n",
       "  </thead>\n",
       "  <tbody>\n",
       "    <tr>\n",
       "      <th>0</th>\n",
       "      <td>csid_10739</td>\n",
       "      <td>0</td>\n",
       "    </tr>\n",
       "    <tr>\n",
       "      <th>1</th>\n",
       "      <td>csid_10740</td>\n",
       "      <td>0</td>\n",
       "    </tr>\n",
       "    <tr>\n",
       "      <th>2</th>\n",
       "      <td>csid_10741</td>\n",
       "      <td>0</td>\n",
       "    </tr>\n",
       "    <tr>\n",
       "      <th>3</th>\n",
       "      <td>csid_10742</td>\n",
       "      <td>0</td>\n",
       "    </tr>\n",
       "    <tr>\n",
       "      <th>4</th>\n",
       "      <td>csid_10743</td>\n",
       "      <td>0</td>\n",
       "    </tr>\n",
       "    <tr>\n",
       "      <th>5</th>\n",
       "      <td>csid_10744</td>\n",
       "      <td>0</td>\n",
       "    </tr>\n",
       "    <tr>\n",
       "      <th>6</th>\n",
       "      <td>csid_10745</td>\n",
       "      <td>0</td>\n",
       "    </tr>\n",
       "    <tr>\n",
       "      <th>7</th>\n",
       "      <td>csid_10746</td>\n",
       "      <td>0</td>\n",
       "    </tr>\n",
       "    <tr>\n",
       "      <th>8</th>\n",
       "      <td>csid_10747</td>\n",
       "      <td>0</td>\n",
       "    </tr>\n",
       "    <tr>\n",
       "      <th>9</th>\n",
       "      <td>csid_10748</td>\n",
       "      <td>0</td>\n",
       "    </tr>\n",
       "    <tr>\n",
       "      <th>10</th>\n",
       "      <td>csid_10749</td>\n",
       "      <td>0</td>\n",
       "    </tr>\n",
       "    <tr>\n",
       "      <th>11</th>\n",
       "      <td>csid_10750</td>\n",
       "      <td>0</td>\n",
       "    </tr>\n",
       "    <tr>\n",
       "      <th>12</th>\n",
       "      <td>csid_10751</td>\n",
       "      <td>0</td>\n",
       "    </tr>\n",
       "    <tr>\n",
       "      <th>13</th>\n",
       "      <td>csid_10752</td>\n",
       "      <td>0</td>\n",
       "    </tr>\n",
       "    <tr>\n",
       "      <th>14</th>\n",
       "      <td>csid_10753</td>\n",
       "      <td>0</td>\n",
       "    </tr>\n",
       "    <tr>\n",
       "      <th>15</th>\n",
       "      <td>csid_10754</td>\n",
       "      <td>0</td>\n",
       "    </tr>\n",
       "    <tr>\n",
       "      <th>16</th>\n",
       "      <td>csid_10755</td>\n",
       "      <td>0</td>\n",
       "    </tr>\n",
       "    <tr>\n",
       "      <th>17</th>\n",
       "      <td>csid_10756</td>\n",
       "      <td>0</td>\n",
       "    </tr>\n",
       "    <tr>\n",
       "      <th>18</th>\n",
       "      <td>csid_10757</td>\n",
       "      <td>0</td>\n",
       "    </tr>\n",
       "    <tr>\n",
       "      <th>19</th>\n",
       "      <td>csid_10758</td>\n",
       "      <td>0</td>\n",
       "    </tr>\n",
       "    <tr>\n",
       "      <th>20</th>\n",
       "      <td>csid_10759</td>\n",
       "      <td>0</td>\n",
       "    </tr>\n",
       "    <tr>\n",
       "      <th>21</th>\n",
       "      <td>csid_10760</td>\n",
       "      <td>0</td>\n",
       "    </tr>\n",
       "    <tr>\n",
       "      <th>22</th>\n",
       "      <td>csid_10761</td>\n",
       "      <td>0</td>\n",
       "    </tr>\n",
       "    <tr>\n",
       "      <th>23</th>\n",
       "      <td>csid_10762</td>\n",
       "      <td>0</td>\n",
       "    </tr>\n",
       "    <tr>\n",
       "      <th>24</th>\n",
       "      <td>csid_10763</td>\n",
       "      <td>0</td>\n",
       "    </tr>\n",
       "    <tr>\n",
       "      <th>25</th>\n",
       "      <td>csid_10764</td>\n",
       "      <td>0</td>\n",
       "    </tr>\n",
       "    <tr>\n",
       "      <th>26</th>\n",
       "      <td>csid_10765</td>\n",
       "      <td>0</td>\n",
       "    </tr>\n",
       "    <tr>\n",
       "      <th>27</th>\n",
       "      <td>csid_10766</td>\n",
       "      <td>0</td>\n",
       "    </tr>\n",
       "    <tr>\n",
       "      <th>28</th>\n",
       "      <td>csid_10767</td>\n",
       "      <td>0</td>\n",
       "    </tr>\n",
       "    <tr>\n",
       "      <th>29</th>\n",
       "      <td>csid_10768</td>\n",
       "      <td>0</td>\n",
       "    </tr>\n",
       "    <tr>\n",
       "      <th>...</th>\n",
       "      <td>...</td>\n",
       "      <td>...</td>\n",
       "    </tr>\n",
       "    <tr>\n",
       "      <th>7130</th>\n",
       "      <td>csid_17869</td>\n",
       "      <td>0</td>\n",
       "    </tr>\n",
       "    <tr>\n",
       "      <th>7131</th>\n",
       "      <td>csid_17870</td>\n",
       "      <td>0</td>\n",
       "    </tr>\n",
       "    <tr>\n",
       "      <th>7132</th>\n",
       "      <td>csid_17871</td>\n",
       "      <td>0</td>\n",
       "    </tr>\n",
       "    <tr>\n",
       "      <th>7133</th>\n",
       "      <td>csid_17872</td>\n",
       "      <td>0</td>\n",
       "    </tr>\n",
       "    <tr>\n",
       "      <th>7134</th>\n",
       "      <td>csid_17873</td>\n",
       "      <td>0</td>\n",
       "    </tr>\n",
       "    <tr>\n",
       "      <th>7135</th>\n",
       "      <td>csid_17874</td>\n",
       "      <td>0</td>\n",
       "    </tr>\n",
       "    <tr>\n",
       "      <th>7136</th>\n",
       "      <td>csid_17875</td>\n",
       "      <td>0</td>\n",
       "    </tr>\n",
       "    <tr>\n",
       "      <th>7137</th>\n",
       "      <td>csid_17876</td>\n",
       "      <td>0</td>\n",
       "    </tr>\n",
       "    <tr>\n",
       "      <th>7138</th>\n",
       "      <td>csid_17877</td>\n",
       "      <td>0</td>\n",
       "    </tr>\n",
       "    <tr>\n",
       "      <th>7139</th>\n",
       "      <td>csid_17878</td>\n",
       "      <td>0</td>\n",
       "    </tr>\n",
       "    <tr>\n",
       "      <th>7140</th>\n",
       "      <td>csid_17879</td>\n",
       "      <td>0</td>\n",
       "    </tr>\n",
       "    <tr>\n",
       "      <th>7141</th>\n",
       "      <td>csid_17880</td>\n",
       "      <td>0</td>\n",
       "    </tr>\n",
       "    <tr>\n",
       "      <th>7142</th>\n",
       "      <td>csid_17881</td>\n",
       "      <td>0</td>\n",
       "    </tr>\n",
       "    <tr>\n",
       "      <th>7143</th>\n",
       "      <td>csid_17882</td>\n",
       "      <td>0</td>\n",
       "    </tr>\n",
       "    <tr>\n",
       "      <th>7144</th>\n",
       "      <td>csid_17883</td>\n",
       "      <td>0</td>\n",
       "    </tr>\n",
       "    <tr>\n",
       "      <th>7145</th>\n",
       "      <td>csid_17884</td>\n",
       "      <td>0</td>\n",
       "    </tr>\n",
       "    <tr>\n",
       "      <th>7146</th>\n",
       "      <td>csid_17885</td>\n",
       "      <td>0</td>\n",
       "    </tr>\n",
       "    <tr>\n",
       "      <th>7147</th>\n",
       "      <td>csid_17886</td>\n",
       "      <td>0</td>\n",
       "    </tr>\n",
       "    <tr>\n",
       "      <th>7148</th>\n",
       "      <td>csid_17887</td>\n",
       "      <td>0</td>\n",
       "    </tr>\n",
       "    <tr>\n",
       "      <th>7149</th>\n",
       "      <td>csid_17888</td>\n",
       "      <td>0</td>\n",
       "    </tr>\n",
       "    <tr>\n",
       "      <th>7150</th>\n",
       "      <td>csid_17889</td>\n",
       "      <td>0</td>\n",
       "    </tr>\n",
       "    <tr>\n",
       "      <th>7151</th>\n",
       "      <td>csid_17890</td>\n",
       "      <td>0</td>\n",
       "    </tr>\n",
       "    <tr>\n",
       "      <th>7152</th>\n",
       "      <td>csid_17891</td>\n",
       "      <td>0</td>\n",
       "    </tr>\n",
       "    <tr>\n",
       "      <th>7153</th>\n",
       "      <td>csid_17892</td>\n",
       "      <td>0</td>\n",
       "    </tr>\n",
       "    <tr>\n",
       "      <th>7154</th>\n",
       "      <td>csid_17893</td>\n",
       "      <td>0</td>\n",
       "    </tr>\n",
       "    <tr>\n",
       "      <th>7155</th>\n",
       "      <td>csid_17894</td>\n",
       "      <td>0</td>\n",
       "    </tr>\n",
       "    <tr>\n",
       "      <th>7156</th>\n",
       "      <td>csid_17895</td>\n",
       "      <td>0</td>\n",
       "    </tr>\n",
       "    <tr>\n",
       "      <th>7157</th>\n",
       "      <td>csid_17896</td>\n",
       "      <td>0</td>\n",
       "    </tr>\n",
       "    <tr>\n",
       "      <th>7158</th>\n",
       "      <td>csid_17897</td>\n",
       "      <td>0</td>\n",
       "    </tr>\n",
       "    <tr>\n",
       "      <th>7159</th>\n",
       "      <td>csid_17898</td>\n",
       "      <td>1</td>\n",
       "    </tr>\n",
       "  </tbody>\n",
       "</table>\n",
       "<p>7160 rows × 2 columns</p>\n",
       "</div>"
      ],
      "text/plain": [
       "     customer_id  customer_category\n",
       "0     csid_10739                  0\n",
       "1     csid_10740                  0\n",
       "2     csid_10741                  0\n",
       "3     csid_10742                  0\n",
       "4     csid_10743                  0\n",
       "5     csid_10744                  0\n",
       "6     csid_10745                  0\n",
       "7     csid_10746                  0\n",
       "8     csid_10747                  0\n",
       "9     csid_10748                  0\n",
       "10    csid_10749                  0\n",
       "11    csid_10750                  0\n",
       "12    csid_10751                  0\n",
       "13    csid_10752                  0\n",
       "14    csid_10753                  0\n",
       "15    csid_10754                  0\n",
       "16    csid_10755                  0\n",
       "17    csid_10756                  0\n",
       "18    csid_10757                  0\n",
       "19    csid_10758                  0\n",
       "20    csid_10759                  0\n",
       "21    csid_10760                  0\n",
       "22    csid_10761                  0\n",
       "23    csid_10762                  0\n",
       "24    csid_10763                  0\n",
       "25    csid_10764                  0\n",
       "26    csid_10765                  0\n",
       "27    csid_10766                  0\n",
       "28    csid_10767                  0\n",
       "29    csid_10768                  0\n",
       "...          ...                ...\n",
       "7130  csid_17869                  0\n",
       "7131  csid_17870                  0\n",
       "7132  csid_17871                  0\n",
       "7133  csid_17872                  0\n",
       "7134  csid_17873                  0\n",
       "7135  csid_17874                  0\n",
       "7136  csid_17875                  0\n",
       "7137  csid_17876                  0\n",
       "7138  csid_17877                  0\n",
       "7139  csid_17878                  0\n",
       "7140  csid_17879                  0\n",
       "7141  csid_17880                  0\n",
       "7142  csid_17881                  0\n",
       "7143  csid_17882                  0\n",
       "7144  csid_17883                  0\n",
       "7145  csid_17884                  0\n",
       "7146  csid_17885                  0\n",
       "7147  csid_17886                  0\n",
       "7148  csid_17887                  0\n",
       "7149  csid_17888                  0\n",
       "7150  csid_17889                  0\n",
       "7151  csid_17890                  0\n",
       "7152  csid_17891                  0\n",
       "7153  csid_17892                  0\n",
       "7154  csid_17893                  0\n",
       "7155  csid_17894                  0\n",
       "7156  csid_17895                  0\n",
       "7157  csid_17896                  0\n",
       "7158  csid_17897                  0\n",
       "7159  csid_17898                  1\n",
       "\n",
       "[7160 rows x 2 columns]"
      ]
     },
     "execution_count": 48,
     "metadata": {},
     "output_type": "execute_result"
    }
   ],
   "source": [
    "submission"
   ]
  },
  {
   "cell_type": "code",
   "execution_count": null,
   "metadata": {},
   "outputs": [],
   "source": []
  }
 ],
 "metadata": {
  "kernelspec": {
   "display_name": "Python 3",
   "language": "python",
   "name": "python3"
  },
  "language_info": {
   "codemirror_mode": {
    "name": "ipython",
    "version": 3
   },
   "file_extension": ".py",
   "mimetype": "text/x-python",
   "name": "python",
   "nbconvert_exporter": "python",
   "pygments_lexer": "ipython3",
   "version": "3.7.1"
  }
 },
 "nbformat": 4,
 "nbformat_minor": 2
}
